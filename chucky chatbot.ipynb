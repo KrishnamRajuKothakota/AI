{
  "cells": [
    {
      "cell_type": "code",
      "execution_count": null,
      "metadata": {
        "collapsed": true,
        "id": "aEuTZ_RG3jZp"
      },
      "outputs": [],
      "source": [
        "#!pip install gradio==4.44.0 requests==2.32.3"
      ]
    },
    {
      "cell_type": "code",
      "execution_count": null,
      "metadata": {
        "id": "HgL4a148C2Nt"
      },
      "outputs": [],
      "source": [
        "import gradio as gr\n",
        "import requests\n",
        "import json\n"
      ]
    },
    {
      "cell_type": "code",
      "execution_count": null,
      "metadata": {
        "id": "eXrhZR27FtWE"
      },
      "outputs": [],
      "source": [
        "model_name = \"mistralai/mistral-small-3.2-24b-instruct:free\"\n",
        "api_key = \"\"\n",
        "API_URL = \"https://openrouter.ai/api/v1/chat/completions\""
      ]
    },
    {
      "cell_type": "code",
      "execution_count": null,
      "metadata": {
        "id": "wr0okP6ENszd"
      },
      "outputs": [],
      "source": [
        "def apply_settings(user_api_key, chosen_model):\n",
        "  global api_key, model_name\n",
        "  api_key = user_api_key\n",
        "  model_name = chosen_model or model_name\n"
      ]
    },
    {
      "cell_type": "code",
      "execution_count": null,
      "metadata": {
        "id": "xOan5TeeQxR8"
      },
      "outputs": [],
      "source": [
        "def stream_chat_reply(user_message, conversation_history=[]):\n",
        "  if not api_key:\n",
        "    return \"Please provide your Open Router API key!\"\n",
        "\n",
        "  messages = [\n",
        "      {\"role\": \"system\", \"content\": \"Your useful coding tutor!\"}\n",
        "  ]\n",
        "\n",
        "  for past_user_message, past_bot_message in conversation_history:\n",
        "    if past_user_message:\n",
        "      messages.append({\"role\": \"user\", \"content\": past_user_message})\n",
        "    if past_bot_message:\n",
        "      messages.append({\"role\": \"assistant\", \"content\": past_bot_message})\n",
        "  messages.append({\"role\": \"user\", \"content\": user_message})\n",
        "  headers = {\n",
        "      \"Authorization\": f\"Bearer {api_key}\",\n",
        "      \"Content-Type\": \"application/json\",\n",
        "      \"Accept\": \"text/event-stream\",\n",
        "  }\n",
        "\n",
        "  body = {\n",
        "      \"model\": model_name,\n",
        "      \"messages\": messages,\n",
        "      \"temperature\": 0.7,\n",
        "      \"stream\": True,\n",
        "  }\n",
        "\n",
        "  with requests.post(API_URL, headers=headers, json=body, stream=True, timeout=300) as response:\n",
        "    partial_text = \"\"\n",
        "\n",
        "    for line in response.iter_lines(decode_unicode=True):\n",
        "      if not line or not line.startswith(\"data:\"):\n",
        "        continue\n",
        "      data = line[5:].strip()\n",
        "      if data == \"[DONE]\":\n",
        "        break\n",
        "      if not data.startswith(\"{\"):\n",
        "        continue\n",
        "\n",
        "      chunk = json.loads(data)\n",
        "      delta = chunk.get(\"choices\", [{}])[0].get(\"delta\", {})\n",
        "      token = delta.get(\"content\")\n",
        "      if token:\n",
        "        partial_text += token\n",
        "        yield partial_text"
      ]
    },
    {
      "cell_type": "code",
      "execution_count": null,
      "metadata": {
        "id": "Ge57a79ca42_"
      },
      "outputs": [],
      "source": [
        "with gr.Blocks() as demo:\n",
        "  gr.Markdown(\"# chucky chatbot\")\n",
        "\n",
        "  with gr.Row():\n",
        "    api_key_box = gr.Textbox(\n",
        "        label=\"Open Router API Key🗝️\",\n",
        "        placeholder=\"Paste your Open Router API key here\",\n",
        "        type=\"password\"\n",
        "    )\n",
        "    model_box = gr.Dropdown(\n",
        "        label=\"🤖 Model\",\n",
        "        choices=[\n",
        "            \"mistralai/mistral-small-3.2-24b-instruct:free\",\n",
        "            \"mistralai/mistral-7b-instruct:free\"\n",
        "        ],\n",
        "        value=\"mistralai/mistral-small-3.2-24b-instruct:free\",\n",
        "        interactive=True\n",
        "    )\n",
        "    apply_button = gr.Button(\"Apply\")\n",
        "  status = gr.Markdown(\"Paste Your API Key Above, then click Apply\")\n",
        "  apply_button.click(apply_settings, [api_key_box, model_box], status)\n",
        "  gr.Markdown(\"Ask me anything!\")\n",
        "  gr.ChatInterface(fn=stream_chat_reply).queue()\n",
        "demo.launch(share=True, debug=True)"
      ]
    }
  ],
  "metadata": {
    "colab": {
      "provenance": []
    },
    "kernelspec": {
      "display_name": "Python 3",
      "name": "python3"
    },
    "language_info": {
      "name": "python"
    }
  },
  "nbformat": 4,
  "nbformat_minor": 0
}